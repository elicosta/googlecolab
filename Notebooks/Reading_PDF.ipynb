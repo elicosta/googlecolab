{
  "nbformat": 4,
  "nbformat_minor": 0,
  "metadata": {
    "colab": {
      "name": "Reading PDF",
      "provenance": [],
      "authorship_tag": "ABX9TyNKt3cPzsGMup7ShU+WMn/1",
      "include_colab_link": true
    },
    "kernelspec": {
      "name": "python3",
      "display_name": "Python 3"
    }
  },
  "cells": [
    {
      "cell_type": "markdown",
      "metadata": {
        "id": "view-in-github",
        "colab_type": "text"
      },
      "source": [
        "<a href=\"https://colab.research.google.com/github/elicosta/googlecolab/blob/master/Notebooks/Reading_PDF.ipynb\" target=\"_parent\"><img src=\"https://colab.research.google.com/assets/colab-badge.svg\" alt=\"Open In Colab\"/></a>"
      ]
    },
    {
      "cell_type": "markdown",
      "metadata": {
        "id": "TtjVc0zRHXtW",
        "colab_type": "text"
      },
      "source": [
        "<p><img alt=\"Colaboratory logo\" height=\"45px\" src=\"/img/colab_favicon.ico\" align=\"left\" hspace=\"10px\" vspace=\"0px\"></p>\n",
        "\n",
        "<h1>Web Scraping em PDF!</h1>\n",
        "\n",
        "Realizando extração de dados em documentos da Camara Municipal da cidade do Natal, por meio do Portal da transparência."
      ]
    },
    {
      "cell_type": "markdown",
      "metadata": {
        "id": "QL16WdaiH2fx",
        "colab_type": "text"
      },
      "source": [
        "# Instalação"
      ]
    },
    {
      "cell_type": "markdown",
      "metadata": {
        "id": "_VVPD8tXI_Ho",
        "colab_type": "text"
      },
      "source": [
        "##PDFMiner"
      ]
    },
    {
      "cell_type": "code",
      "metadata": {
        "id": "TUZhjY0_IY1K",
        "colab_type": "code",
        "colab": {}
      },
      "source": [
        "!pip install pdfminer3k==1.3.1"
      ],
      "execution_count": 0,
      "outputs": []
    },
    {
      "cell_type": "markdown",
      "metadata": {
        "id": "R2yMmo56JDiO",
        "colab_type": "text"
      },
      "source": [
        "##URLopen"
      ]
    },
    {
      "cell_type": "code",
      "metadata": {
        "id": "NHsJEfsjKHdv",
        "colab_type": "code",
        "colab": {}
      },
      "source": [
        "!pip install urllib3"
      ],
      "execution_count": 0,
      "outputs": []
    },
    {
      "cell_type": "markdown",
      "metadata": {
        "id": "Ijc7qdeKIan5",
        "colab_type": "text"
      },
      "source": [
        "# Exemplo"
      ]
    },
    {
      "cell_type": "code",
      "metadata": {
        "id": "0vOJer50Ijkx",
        "colab_type": "code",
        "outputId": "f31ed978-bada-4604-9a80-cb39ae92eeb9",
        "colab": {
          "base_uri": "https://localhost:8080/",
          "height": 527
        }
      },
      "source": [
        "from pdfminer.pdfinterp import PDFResourceManager, process_pdf\n",
        "from pdfminer.converter import TextConverter\n",
        "from pdfminer.layout import LAParams\n",
        "from io import StringIO\n",
        "from io import open\n",
        "from urllib.request import urlopen\n",
        "\n",
        "def readPDF(pdfFile):\n",
        "  rsrcmgr = PDFResourceManager()\n",
        "  retstr = StringIO()\n",
        "  laparams = LAParams()\n",
        "\n",
        "  device = TextConverter(rsrcmgr, retstr, laparams=laparams)\n",
        "  process_pdf(rsrcmgr, device, pdfFile)\n",
        "  device.close()\n",
        "\n",
        "  content = retstr.getvalue()\n",
        "  retstr.close()\n",
        "\n",
        "  return content\n",
        "\n",
        "pdfFile = urlopen(\"https://sapl.natal.rn.leg.br/relatorios/pauta-sessao/183/\");\n",
        "outputString = readPDF(pdfFile)\n",
        "print(outputString)\n",
        "pdfFile.close()"
      ],
      "execution_count": 0,
      "outputs": [
        {
          "output_type": "stream",
          "text": [
            "Câmara Municipal de Natal\n",
            "\n",
            "Sistema de Apoio ao Processo Legislativo\n",
            "\n",
            "Pauta da 13ª Reunião Ordinária da 4ª Sessão Legislativa da \n",
            "18ª (2017 - 2020) (Atual) Legislatura \n",
            "\n",
            "Informações Básicas\n",
            "\n",
            "Tipo da Sessão: Ordinária\n",
            "Abertura: 23/04/2020 - 09:00\n",
            "\n",
            "Matérias do Expediente\n",
            "\n",
            "Matérias da Ordem do Dia\n",
            "\n",
            "Matéria Ementa\n",
            "\n",
            "Situação\n",
            "\n",
            "Matéria Ementa\n",
            "\n",
            "Situação\n",
            "\n",
            "28/04/2020\n",
            "\n",
            "Rua Jundiaí, 546 - Tirol - Natal RN Tel.: (84) 3232-9364\n",
            "http://www.cmnat.rn.gov.br/\n",
            "\n",
            "\f\n"
          ],
          "name": "stdout"
        }
      ]
    }
  ]
}